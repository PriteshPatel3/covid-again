{
 "cells": [
  {
   "cell_type": "code",
   "execution_count": 5,
   "metadata": {},
   "outputs": [],
   "source": [
    "import pandas as pd\n",
    "import os\n",
    "import numpy as np"
   ]
  },
  {
   "cell_type": "code",
   "execution_count": 6,
   "metadata": {},
   "outputs": [],
   "source": [
    "def importCsv(name, listName):\n",
    "    dir_name = os.getcwd()\n",
    "    for file in os.listdir(dir_name + '\\\\'  +name):\n",
    "        df = pd.read_csv(dir_name + '\\\\'  + name +'\\\\' +file, error_bad_lines=False)\n",
    "        df.name = file\n",
    "        listName.append(df)"
   ]
  },
  {
   "cell_type": "markdown",
   "metadata": {
    "tags": []
   },
   "source": [
    "# Epidemic data"
   ]
  },
  {
   "cell_type": "code",
   "execution_count": 7,
   "metadata": {},
   "outputs": [],
   "source": [
    "epidemic_list = []\n",
    "importCsv('epidemic data',epidemic_list )"
   ]
  },
  {
   "cell_type": "code",
   "execution_count": 8,
   "metadata": {
    "tags": []
   },
   "outputs": [
    {
     "name": "stdout",
     "output_type": "stream",
     "text": [
      "cases_malaysia.csv\n",
      "cases_state.csv\n",
      "clusters.csv\n",
      "deaths_malaysia.csv\n",
      "deaths_state.csv\n",
      "hospital.csv\n",
      "icu.csv\n",
      "pkrc.csv\n",
      "tests_malaysia.csv\n",
      "tests_state.csv\n"
     ]
    }
   ],
   "source": [
    "for x in epidemic_list:\n",
    "    print(x.name)"
   ]
  },
  {
   "cell_type": "markdown",
   "metadata": {
    "heading_collapsed": "true",
    "tags": []
   },
   "source": [
    "## Shape of Data "
   ]
  },
  {
   "cell_type": "code",
   "execution_count": 9,
   "metadata": {
    "collapsed": true,
    "jupyter": {
     "outputs_hidden": true
    },
    "tags": []
   },
   "outputs": [
    {
     "name": "stdout",
     "output_type": "stream",
     "text": [
      "cases_malaysia.csv\n",
      "620 rows and 19 columns\n",
      "\n",
      "cases_state.csv\n",
      "9920 rows and 13 columns\n",
      "\n",
      "clusters.csv\n",
      "5507 rows and 14 columns\n",
      "\n",
      "deaths_malaysia.csv\n",
      "568 rows and 8 columns\n",
      "\n",
      "deaths_state.csv\n",
      "9088 rows and 9 columns\n",
      "\n",
      "hospital.csv\n",
      "8563 rows and 14 columns\n",
      "\n",
      "icu.csv\n",
      "8583 rows and 16 columns\n",
      "\n",
      "pkrc.csv\n",
      "6519 rows and 12 columns\n",
      "\n",
      "tests_malaysia.csv\n",
      "618 rows and 3 columns\n",
      "\n",
      "tests_state.csv\n",
      "1504 rows and 4 columns\n",
      "\n"
     ]
    }
   ],
   "source": [
    "for x in epidemic_list:\n",
    "    print(x.name + \"\\n{row} rows and {column} columns\".format(row=x.shape[0], column=x.shape[1]) + \"\\n\")"
   ]
  },
  {
   "cell_type": "markdown",
   "metadata": {
    "tags": []
   },
   "source": [
    "## Missing Value"
   ]
  },
  {
   "cell_type": "code",
   "execution_count": 10,
   "metadata": {
    "tags": []
   },
   "outputs": [
    {
     "name": "stdout",
     "output_type": "stream",
     "text": [
      "cases_malaysia.csv\n",
      "date                         0\n",
      "cases_new                    0\n",
      "cases_import                 0\n",
      "cases_recovered              0\n",
      "cases_active                 0\n",
      "cases_cluster                0\n",
      "cases_pvax                   0\n",
      "cases_fvax                   0\n",
      "cases_child                  0\n",
      "cases_adolescent             0\n",
      "cases_adult                  0\n",
      "cases_elderly                0\n",
      "cluster_import             342\n",
      "cluster_religious          342\n",
      "cluster_community          342\n",
      "cluster_highRisk           342\n",
      "cluster_education          342\n",
      "cluster_detentionCentre    342\n",
      "cluster_workplace          342\n",
      "dtype: int64\n",
      "\n",
      "\n",
      "cases_state.csv\n",
      "date                0\n",
      "state               0\n",
      "cases_new           0\n",
      "cases_import        0\n",
      "cases_recovered     0\n",
      "cases_active        0\n",
      "cases_cluster       0\n",
      "cases_pvax          0\n",
      "cases_fvax          0\n",
      "cases_child         0\n",
      "cases_adolescent    0\n",
      "cases_adult         0\n",
      "cases_elderly       0\n",
      "dtype: int64\n",
      "\n",
      "\n",
      "clusters.csv\n",
      "cluster            0\n",
      "state              0\n",
      "district           0\n",
      "date_announced     0\n",
      "date_last_onset    0\n",
      "category           0\n",
      "status             0\n",
      "cases_new          0\n",
      "cases_total        0\n",
      "cases_active       0\n",
      "tests              0\n",
      "icu                0\n",
      "deaths             0\n",
      "recovered          0\n",
      "dtype: int64\n",
      "\n",
      "\n",
      "deaths_malaysia.csv\n",
      "date              0\n",
      "deaths_new        0\n",
      "deaths_bid        0\n",
      "deaths_new_dod    0\n",
      "deaths_bid_dod    0\n",
      "deaths_pvax       0\n",
      "deaths_fvax       0\n",
      "deaths_tat        0\n",
      "dtype: int64\n",
      "\n",
      "\n",
      "deaths_state.csv\n",
      "date              0\n",
      "state             0\n",
      "deaths_new        0\n",
      "deaths_bid        0\n",
      "deaths_new_dod    0\n",
      "deaths_bid_dod    0\n",
      "deaths_pvax       0\n",
      "deaths_fvax       0\n",
      "deaths_tat        0\n",
      "dtype: int64\n",
      "\n",
      "\n",
      "hospital.csv\n",
      "date                0\n",
      "state               0\n",
      "beds                0\n",
      "beds_covid          0\n",
      "beds_noncrit        0\n",
      "admitted_pui        0\n",
      "admitted_covid      0\n",
      "admitted_total      0\n",
      "discharged_pui      0\n",
      "discharged_covid    0\n",
      "discharged_total    0\n",
      "hosp_covid          0\n",
      "hosp_pui            0\n",
      "hosp_noncovid       0\n",
      "dtype: int64\n",
      "\n",
      "\n",
      "icu.csv\n",
      "date              0\n",
      "state             0\n",
      "beds_icu          0\n",
      "beds_icu_rep      0\n",
      "beds_icu_total    0\n",
      "beds_icu_covid    0\n",
      "vent              0\n",
      "vent_port         0\n",
      "icu_covid         0\n",
      "icu_pui           0\n",
      "icu_noncovid      0\n",
      "vent_covid        0\n",
      "vent_pui          0\n",
      "vent_noncovid     0\n",
      "vent_used         0\n",
      "vent_port_used    0\n",
      "dtype: int64\n",
      "\n",
      "\n",
      "pkrc.csv\n",
      "date               0\n",
      "state              0\n",
      "beds               0\n",
      "admitted_pui       0\n",
      "admitted_covid     0\n",
      "admitted_total     0\n",
      "discharge_pui      0\n",
      "discharge_covid    0\n",
      "discharge_total    0\n",
      "pkrc_covid         0\n",
      "pkrc_pui           0\n",
      "pkrc_noncovid      0\n",
      "dtype: int64\n",
      "\n",
      "\n",
      "tests_malaysia.csv\n",
      "date      0\n",
      "rtk-ag    0\n",
      "pcr       0\n",
      "dtype: int64\n",
      "\n",
      "\n",
      "tests_state.csv\n",
      "date      0\n",
      "state     0\n",
      "rtk-ag    0\n",
      "pcr       0\n",
      "dtype: int64\n",
      "\n",
      "\n"
     ]
    }
   ],
   "source": [
    "for x in epidemic_list:\n",
    "    print(x.name )\n",
    "    print(x.isna().sum())\n",
    "    print('\\n')"
   ]
  },
  {
   "cell_type": "markdown",
   "metadata": {
    "tags": []
   },
   "source": [
    "## First data and last date"
   ]
  },
  {
   "cell_type": "code",
   "execution_count": 11,
   "metadata": {
    "tags": []
   },
   "outputs": [
    {
     "name": "stdout",
     "output_type": "stream",
     "text": [
      "cases_malaysia.csv\n",
      "0      2020-01-25\n",
      "619    2021-10-05\n",
      "Name: date, dtype: object\n",
      "\n",
      "\n",
      "cases_state.csv\n",
      "0       2020-01-25\n",
      "9919    2021-10-05\n",
      "Name: date, dtype: object\n",
      "\n",
      "\n",
      "clusters.csv\n",
      "date not found\n",
      "\n",
      "\n",
      "deaths_malaysia.csv\n",
      "0      2020-03-17\n",
      "567    2021-10-05\n",
      "Name: date, dtype: object\n",
      "\n",
      "\n",
      "deaths_state.csv\n",
      "0       2020-03-17\n",
      "9087    2021-10-05\n",
      "Name: date, dtype: object\n",
      "\n",
      "\n",
      "hospital.csv\n",
      "0       2020-03-24\n",
      "8562    2021-10-05\n",
      "Name: date, dtype: object\n",
      "\n",
      "\n",
      "icu.csv\n",
      "0       2020-03-24\n",
      "8582    2021-10-05\n",
      "Name: date, dtype: object\n",
      "\n",
      "\n",
      "pkrc.csv\n",
      "0       2020-03-28\n",
      "6518    2021-10-05\n",
      "Name: date, dtype: object\n",
      "\n",
      "\n",
      "tests_malaysia.csv\n",
      "0      2020-01-24\n",
      "617    2021-10-02\n",
      "Name: date, dtype: object\n",
      "\n",
      "\n",
      "tests_state.csv\n",
      "0       2021-07-01\n",
      "1503    2021-10-02\n",
      "Name: date, dtype: object\n",
      "\n",
      "\n"
     ]
    }
   ],
   "source": [
    "for x in epidemic_list:\n",
    "    try:\n",
    "        print(x.name)\n",
    "        x = x.iloc[[0, -1]]\n",
    "        print(x.date)\n",
    "        print('\\n')\n",
    "    except:\n",
    "        print('date not found')\n",
    "        print('\\n')"
   ]
  },
  {
   "cell_type": "markdown",
   "metadata": {
    "tags": []
   },
   "source": [
    "# Vacination Data"
   ]
  },
  {
   "cell_type": "code",
   "execution_count": 12,
   "metadata": {},
   "outputs": [],
   "source": [
    "vaxcination_list = []\n",
    "importCsv('vaxcination data',vaxcination_list )"
   ]
  },
  {
   "cell_type": "code",
   "execution_count": 13,
   "metadata": {},
   "outputs": [
    {
     "name": "stdout",
     "output_type": "stream",
     "text": [
      "vax_malaysia.csv\n",
      "vax_state.csv\n"
     ]
    }
   ],
   "source": [
    "for x in vaxcination_list:\n",
    "    print(x.name)"
   ]
  },
  {
   "cell_type": "markdown",
   "metadata": {
    "heading_collapsed": "true",
    "tags": []
   },
   "source": [
    "## Shape of Data"
   ]
  },
  {
   "cell_type": "code",
   "execution_count": 14,
   "metadata": {},
   "outputs": [
    {
     "name": "stdout",
     "output_type": "stream",
     "text": [
      "vax_malaysia.csv\n",
      "224 rows and 19 columns\n",
      "\n",
      "vax_state.csv\n",
      "3584 rows and 20 columns\n",
      "\n"
     ]
    }
   ],
   "source": [
    "for x in vaxcination_list:\n",
    "    print(x.name + \"\\n{row} rows and {column} columns\".format(row=x.shape[0], column=x.shape[1]) + \"\\n\")"
   ]
  },
  {
   "cell_type": "markdown",
   "metadata": {
    "tags": []
   },
   "source": [
    "## Missing Values"
   ]
  },
  {
   "cell_type": "code",
   "execution_count": 15,
   "metadata": {},
   "outputs": [
    {
     "name": "stdout",
     "output_type": "stream",
     "text": [
      "vax_malaysia.csv\n",
      "date                   0\n",
      "daily_partial          0\n",
      "daily_full             0\n",
      "daily                  0\n",
      "daily_partial_child    0\n",
      "daily_full_child       0\n",
      "cumul_partial          0\n",
      "cumul_full             0\n",
      "cumul                  0\n",
      "cumul_partial_child    0\n",
      "cumul_full_child       0\n",
      "pfizer1                0\n",
      "pfizer2                0\n",
      "sinovac1               0\n",
      "sinovac2               0\n",
      "astra1                 0\n",
      "astra2                 0\n",
      "cansino                0\n",
      "pending                0\n",
      "dtype: int64\n",
      "\n",
      "\n",
      "vax_state.csv\n",
      "date                   0\n",
      "state                  0\n",
      "daily_partial          0\n",
      "daily_full             0\n",
      "daily                  0\n",
      "daily_partial_child    0\n",
      "daily_full_child       0\n",
      "cumul_partial          0\n",
      "cumul_full             0\n",
      "cumul                  0\n",
      "cumul_partial_child    0\n",
      "cumul_full_child       0\n",
      "pfizer1                0\n",
      "pfizer2                0\n",
      "sinovac1               0\n",
      "sinovac2               0\n",
      "astra1                 0\n",
      "astra2                 0\n",
      "cansino                0\n",
      "pending                0\n",
      "dtype: int64\n",
      "\n",
      "\n"
     ]
    }
   ],
   "source": [
    "for x in vaxcination_list:\n",
    "    print(x.name )\n",
    "    print(x.isna().sum())\n",
    "    print('\\n')"
   ]
  },
  {
   "cell_type": "markdown",
   "metadata": {
    "tags": []
   },
   "source": [
    "## First data and last data"
   ]
  },
  {
   "cell_type": "code",
   "execution_count": 16,
   "metadata": {
    "tags": []
   },
   "outputs": [
    {
     "name": "stdout",
     "output_type": "stream",
     "text": [
      "vax_malaysia.csv\n",
      "0      2021-02-24\n",
      "223    2021-10-05\n",
      "Name: date, dtype: object\n",
      "\n",
      "\n",
      "vax_state.csv\n",
      "0       2021-02-24\n",
      "3583    2021-10-05\n",
      "Name: date, dtype: object\n",
      "\n",
      "\n"
     ]
    }
   ],
   "source": [
    "for x in vaxcination_list:\n",
    "    try:\n",
    "        print(x.name)\n",
    "        x = x.iloc[[0, -1]]\n",
    "        print(x.date)\n",
    "        print('\\n')\n",
    "    except:\n",
    "        print('date not found')\n",
    "        print('\\n')"
   ]
  },
  {
   "cell_type": "markdown",
   "metadata": {
    "tags": []
   },
   "source": [
    "# Vacination Regristration Data"
   ]
  },
  {
   "cell_type": "code",
   "execution_count": 17,
   "metadata": {},
   "outputs": [],
   "source": [
    "vax_regristration_list = []\n",
    "importCsv('vax_regristration',vax_regristration_list )"
   ]
  },
  {
   "cell_type": "code",
   "execution_count": 18,
   "metadata": {},
   "outputs": [
    {
     "name": "stdout",
     "output_type": "stream",
     "text": [
      "vaxreg_malaysia.csv\n",
      "vaxreg_state.csv\n"
     ]
    }
   ],
   "source": [
    "for x in vax_regristration_list:\n",
    "    print(x.name)"
   ]
  },
  {
   "cell_type": "markdown",
   "metadata": {
    "heading_collapsed": "true",
    "tags": []
   },
   "source": [
    "## Shape of Data"
   ]
  },
  {
   "cell_type": "code",
   "execution_count": 19,
   "metadata": {},
   "outputs": [
    {
     "name": "stdout",
     "output_type": "stream",
     "text": [
      "vaxreg_malaysia.csv\n",
      "104 rows and 11 columns\n",
      "\n",
      "vaxreg_state.csv\n",
      "1664 rows and 11 columns\n",
      "\n"
     ]
    }
   ],
   "source": [
    "for x in vax_regristration_list:\n",
    "    print(x.name + \"\\n{row} rows and {column} columns\".format(row=x.shape[0], column=x.shape[1]) + \"\\n\")"
   ]
  },
  {
   "cell_type": "markdown",
   "metadata": {
    "tags": []
   },
   "source": [
    "## Missing Values"
   ]
  },
  {
   "cell_type": "code",
   "execution_count": 20,
   "metadata": {},
   "outputs": [
    {
     "name": "stdout",
     "output_type": "stream",
     "text": [
      "vaxreg_malaysia.csv\n",
      "date        0\n",
      "state       0\n",
      "total       0\n",
      "phase2      0\n",
      "mysj        0\n",
      "call        0\n",
      "web         0\n",
      "children    0\n",
      "elderly     0\n",
      "comorb      0\n",
      "oku         0\n",
      "dtype: int64\n",
      "\n",
      "\n",
      "vaxreg_state.csv\n",
      "date        0\n",
      "state       0\n",
      "total       0\n",
      "phase2      0\n",
      "mysj        0\n",
      "call        0\n",
      "web         0\n",
      "children    0\n",
      "elderly     0\n",
      "comorb      0\n",
      "oku         0\n",
      "dtype: int64\n",
      "\n",
      "\n"
     ]
    }
   ],
   "source": [
    "for x in vax_regristration_list:\n",
    "    print(x.name )\n",
    "    print(x.isna().sum())\n",
    "    print('\\n')"
   ]
  },
  {
   "cell_type": "markdown",
   "metadata": {
    "tags": []
   },
   "source": [
    "## First data and last data"
   ]
  },
  {
   "cell_type": "code",
   "execution_count": 21,
   "metadata": {},
   "outputs": [
    {
     "name": "stdout",
     "output_type": "stream",
     "text": [
      "vax_malaysia.csv\n",
      "0      2021-02-24\n",
      "223    2021-10-05\n",
      "Name: date, dtype: object\n",
      "\n",
      "\n",
      "vax_state.csv\n",
      "0       2021-02-24\n",
      "3583    2021-10-05\n",
      "Name: date, dtype: object\n",
      "\n",
      "\n"
     ]
    }
   ],
   "source": [
    "for x in vaxcination_list:\n",
    "    try:\n",
    "        print(x.name)\n",
    "        x = x.iloc[[0, -1]]\n",
    "        print(x.date)\n",
    "        print('\\n')\n",
    "    except:\n",
    "        print('date not found')\n",
    "        print('\\n')"
   ]
  },
  {
   "cell_type": "markdown",
   "metadata": {
    "tags": []
   },
   "source": [
    "# Vacination side effect data"
   ]
  },
  {
   "cell_type": "code",
   "execution_count": 22,
   "metadata": {},
   "outputs": [],
   "source": [
    "vax_side_effect = []\n",
    "importCsv('vax side effect',vax_side_effect)"
   ]
  },
  {
   "cell_type": "code",
   "execution_count": 23,
   "metadata": {},
   "outputs": [
    {
     "name": "stdout",
     "output_type": "stream",
     "text": [
      "aefi.csv\n",
      "aefi_serious.csv\n"
     ]
    }
   ],
   "source": [
    "for x in vax_side_effect:\n",
    "    print(x.name)"
   ]
  },
  {
   "cell_type": "markdown",
   "metadata": {
    "heading_collapsed": "true",
    "tags": []
   },
   "source": [
    "## Shape of Data"
   ]
  },
  {
   "cell_type": "code",
   "execution_count": 24,
   "metadata": {},
   "outputs": [
    {
     "name": "stdout",
     "output_type": "stream",
     "text": [
      "aefi.csv\n",
      "582 rows and 32 columns\n",
      "\n",
      "aefi_serious.csv\n",
      "12 rows and 6 columns\n",
      "\n"
     ]
    }
   ],
   "source": [
    "for x in vax_side_effect:\n",
    "    print(x.name + \"\\n{row} rows and {column} columns\".format(row=x.shape[0], column=x.shape[1]) + \"\\n\")"
   ]
  },
  {
   "cell_type": "markdown",
   "metadata": {
    "tags": []
   },
   "source": [
    "## Missing Values"
   ]
  },
  {
   "cell_type": "code",
   "execution_count": 25,
   "metadata": {},
   "outputs": [
    {
     "name": "stdout",
     "output_type": "stream",
     "text": [
      "aefi.csv\n",
      "date                           0\n",
      "vaxtype                        0\n",
      "daily_total                    0\n",
      "daily_nonserious_mysj          0\n",
      "daily_nonserious_npra          0\n",
      "daily_serious_npra             0\n",
      "daily_nonserious_mysj_dose1    0\n",
      "daily_nonserious_mysj_dose2    0\n",
      "d1_site_pain                   0\n",
      "d1_site_swelling               0\n",
      "d1_site_redness                0\n",
      "d1_tiredness                   0\n",
      "d1_headache                    0\n",
      "d1_muscle_pain                 0\n",
      "d1_joint_pain                  0\n",
      "d1_weakness                    0\n",
      "d1_fever                       0\n",
      "d1_vomiting                    0\n",
      "d1_chills                      0\n",
      "d1_rash                        0\n",
      "d2_site_pain                   0\n",
      "d2_site_swelling               0\n",
      "d2_site_redness                0\n",
      "d2_tiredness                   0\n",
      "d2_headache                    0\n",
      "d2_muscle_pain                 0\n",
      "d2_joint_pain                  0\n",
      "d2_weakness                    0\n",
      "d2_fever                       0\n",
      "d2_vomiting                    0\n",
      "d2_chills                      0\n",
      "d2_rash                        0\n",
      "dtype: int64\n",
      "\n",
      "\n",
      "aefi_serious.csv\n",
      "date                      0\n",
      "vaxtype                   0\n",
      "suspected_anaphylaxis     0\n",
      "acute_facial_paralysis    0\n",
      "venous_thromboembolism    0\n",
      "myo_pericarditis          0\n",
      "dtype: int64\n",
      "\n",
      "\n"
     ]
    }
   ],
   "source": [
    "for x in vax_side_effect:\n",
    "    print(x.name )\n",
    "    print(x.isna().sum())\n",
    "    print('\\n')"
   ]
  },
  {
   "cell_type": "markdown",
   "metadata": {
    "tags": []
   },
   "source": [
    "## First data and last data"
   ]
  },
  {
   "cell_type": "code",
   "execution_count": 26,
   "metadata": {},
   "outputs": [
    {
     "name": "stdout",
     "output_type": "stream",
     "text": [
      "vax_malaysia.csv\n",
      "0      2021-02-24\n",
      "223    2021-10-05\n",
      "Name: date, dtype: object\n",
      "\n",
      "\n",
      "vax_state.csv\n",
      "0       2021-02-24\n",
      "3583    2021-10-05\n",
      "Name: date, dtype: object\n",
      "\n",
      "\n"
     ]
    }
   ],
   "source": [
    "for x in vaxcination_list:\n",
    "    try:\n",
    "        print(x.name)\n",
    "        x = x.iloc[[0, -1]]\n",
    "        print(x.date)\n",
    "        print('\\n')\n",
    "    except:\n",
    "        print('date not found')\n",
    "        print('\\n')"
   ]
  },
  {
   "cell_type": "code",
   "execution_count": null,
   "metadata": {},
   "outputs": [],
   "source": []
  }
 ],
 "metadata": {
  "kernelspec": {
   "display_name": "Python 3",
   "language": "python",
   "name": "python3"
  },
  "language_info": {
   "codemirror_mode": {
    "name": "ipython",
    "version": 3
   },
   "file_extension": ".py",
   "mimetype": "text/x-python",
   "name": "python",
   "nbconvert_exporter": "python",
   "pygments_lexer": "ipython3",
   "version": "3.8.8"
  },
  "toc-showmarkdowntxt": true
 },
 "nbformat": 4,
 "nbformat_minor": 4
}
