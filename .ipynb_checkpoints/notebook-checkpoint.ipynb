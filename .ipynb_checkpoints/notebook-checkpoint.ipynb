{
 "cells": [
  {
   "cell_type": "code",
   "execution_count": null,
   "metadata": {},
   "outputs": [],
   "source": [
    "import pandas as pd\n",
    "import os\n",
    "import numpy as np"
   ]
  },
  {
   "cell_type": "code",
   "execution_count": null,
   "metadata": {},
   "outputs": [],
   "source": [
    "def importCsv(name, listName):\n",
    "    dir_name = os.getcwd()\n",
    "    for file in os.listdir(dir_name + '\\\\'  +name):\n",
    "        df = pd.read_csv(dir_name + '\\\\'  + name +'\\\\' +file, error_bad_lines=False)\n",
    "        df.name = file\n",
    "        listName.append(df)"
   ]
  },
  {
   "cell_type": "code",
   "execution_count": 191,
   "metadata": {},
   "outputs": [
    {
     "data": {
      "text/html": [
       "<div>\n",
       "<style scoped>\n",
       "    .dataframe tbody tr th:only-of-type {\n",
       "        vertical-align: middle;\n",
       "    }\n",
       "\n",
       "    .dataframe tbody tr th {\n",
       "        vertical-align: top;\n",
       "    }\n",
       "\n",
       "    .dataframe thead th {\n",
       "        text-align: right;\n",
       "    }\n",
       "</style>\n",
       "<table border=\"1\" class=\"dataframe\">\n",
       "  <thead>\n",
       "    <tr style=\"text-align: right;\">\n",
       "      <th></th>\n",
       "      <th>state</th>\n",
       "      <th>idxs</th>\n",
       "      <th>pop</th>\n",
       "      <th>pop_18</th>\n",
       "      <th>pop_60</th>\n",
       "    </tr>\n",
       "  </thead>\n",
       "  <tbody>\n",
       "    <tr>\n",
       "      <th>0</th>\n",
       "      <td>Malaysia</td>\n",
       "      <td>0</td>\n",
       "      <td>32657400</td>\n",
       "      <td>23409600</td>\n",
       "      <td>3502000</td>\n",
       "    </tr>\n",
       "    <tr>\n",
       "      <th>1</th>\n",
       "      <td>Johor</td>\n",
       "      <td>1</td>\n",
       "      <td>3781000</td>\n",
       "      <td>2711900</td>\n",
       "      <td>428700</td>\n",
       "    </tr>\n",
       "    <tr>\n",
       "      <th>2</th>\n",
       "      <td>Kedah</td>\n",
       "      <td>2</td>\n",
       "      <td>2185100</td>\n",
       "      <td>1540600</td>\n",
       "      <td>272500</td>\n",
       "    </tr>\n",
       "    <tr>\n",
       "      <th>3</th>\n",
       "      <td>Kelantan</td>\n",
       "      <td>3</td>\n",
       "      <td>1906700</td>\n",
       "      <td>1236200</td>\n",
       "      <td>194100</td>\n",
       "    </tr>\n",
       "    <tr>\n",
       "      <th>4</th>\n",
       "      <td>Melaka</td>\n",
       "      <td>4</td>\n",
       "      <td>932700</td>\n",
       "      <td>677400</td>\n",
       "      <td>118500</td>\n",
       "    </tr>\n",
       "    <tr>\n",
       "      <th>5</th>\n",
       "      <td>Negeri Sembilan</td>\n",
       "      <td>5</td>\n",
       "      <td>1128800</td>\n",
       "      <td>814400</td>\n",
       "      <td>145000</td>\n",
       "    </tr>\n",
       "    <tr>\n",
       "      <th>6</th>\n",
       "      <td>Pahang</td>\n",
       "      <td>6</td>\n",
       "      <td>1678700</td>\n",
       "      <td>1175800</td>\n",
       "      <td>190200</td>\n",
       "    </tr>\n",
       "    <tr>\n",
       "      <th>7</th>\n",
       "      <td>Pulau Pinang</td>\n",
       "      <td>7</td>\n",
       "      <td>1773600</td>\n",
       "      <td>1367200</td>\n",
       "      <td>239200</td>\n",
       "    </tr>\n",
       "    <tr>\n",
       "      <th>8</th>\n",
       "      <td>Perak</td>\n",
       "      <td>8</td>\n",
       "      <td>2510300</td>\n",
       "      <td>1862700</td>\n",
       "      <td>397300</td>\n",
       "    </tr>\n",
       "    <tr>\n",
       "      <th>9</th>\n",
       "      <td>Perlis</td>\n",
       "      <td>9</td>\n",
       "      <td>254900</td>\n",
       "      <td>181200</td>\n",
       "      <td>35100</td>\n",
       "    </tr>\n",
       "    <tr>\n",
       "      <th>10</th>\n",
       "      <td>Selangor</td>\n",
       "      <td>10</td>\n",
       "      <td>6538000</td>\n",
       "      <td>4747900</td>\n",
       "      <td>575800</td>\n",
       "    </tr>\n",
       "    <tr>\n",
       "      <th>11</th>\n",
       "      <td>Terengganu</td>\n",
       "      <td>11</td>\n",
       "      <td>1259300</td>\n",
       "      <td>808400</td>\n",
       "      <td>115200</td>\n",
       "    </tr>\n",
       "    <tr>\n",
       "      <th>12</th>\n",
       "      <td>Sabah</td>\n",
       "      <td>12</td>\n",
       "      <td>3908500</td>\n",
       "      <td>2758400</td>\n",
       "      <td>238900</td>\n",
       "    </tr>\n",
       "    <tr>\n",
       "      <th>13</th>\n",
       "      <td>Sarawak</td>\n",
       "      <td>13</td>\n",
       "      <td>2816500</td>\n",
       "      <td>2042700</td>\n",
       "      <td>332800</td>\n",
       "    </tr>\n",
       "    <tr>\n",
       "      <th>14</th>\n",
       "      <td>W.P. Kuala Lumpur</td>\n",
       "      <td>14</td>\n",
       "      <td>1773700</td>\n",
       "      <td>1348600</td>\n",
       "      <td>205800</td>\n",
       "    </tr>\n",
       "    <tr>\n",
       "      <th>15</th>\n",
       "      <td>W.P. Labuan</td>\n",
       "      <td>15</td>\n",
       "      <td>99600</td>\n",
       "      <td>68500</td>\n",
       "      <td>7900</td>\n",
       "    </tr>\n",
       "    <tr>\n",
       "      <th>16</th>\n",
       "      <td>W.P. Putrajaya</td>\n",
       "      <td>16</td>\n",
       "      <td>110000</td>\n",
       "      <td>67700</td>\n",
       "      <td>5000</td>\n",
       "    </tr>\n",
       "  </tbody>\n",
       "</table>\n",
       "</div>"
      ],
      "text/plain": [
       "                state  idxs       pop    pop_18   pop_60\n",
       "0            Malaysia     0  32657400  23409600  3502000\n",
       "1               Johor     1   3781000   2711900   428700\n",
       "2               Kedah     2   2185100   1540600   272500\n",
       "3            Kelantan     3   1906700   1236200   194100\n",
       "4              Melaka     4    932700    677400   118500\n",
       "5     Negeri Sembilan     5   1128800    814400   145000\n",
       "6              Pahang     6   1678700   1175800   190200\n",
       "7        Pulau Pinang     7   1773600   1367200   239200\n",
       "8               Perak     8   2510300   1862700   397300\n",
       "9              Perlis     9    254900    181200    35100\n",
       "10           Selangor    10   6538000   4747900   575800\n",
       "11         Terengganu    11   1259300    808400   115200\n",
       "12              Sabah    12   3908500   2758400   238900\n",
       "13            Sarawak    13   2816500   2042700   332800\n",
       "14  W.P. Kuala Lumpur    14   1773700   1348600   205800\n",
       "15        W.P. Labuan    15     99600     68500     7900\n",
       "16     W.P. Putrajaya    16    110000     67700     5000"
      ]
     },
     "execution_count": 191,
     "metadata": {},
     "output_type": "execute_result"
    }
   ],
   "source": [
    "pop = pd.read_csv('population.csv')\n",
    "pop"
   ]
  },
  {
   "cell_type": "markdown",
   "metadata": {
    "tags": []
   },
   "source": [
    "# Epidemic data"
   ]
  },
  {
   "cell_type": "code",
   "execution_count": null,
   "metadata": {},
   "outputs": [],
   "source": [
    "epidemic_list = []\n",
    "importCsv('epidemic data',epidemic_list )"
   ]
  },
  {
   "cell_type": "code",
   "execution_count": 157,
   "metadata": {
    "tags": []
   },
   "outputs": [
    {
     "name": "stdout",
     "output_type": "stream",
     "text": [
      "cases_malaysia.csv\n",
      "cases_state.csv\n",
      "clusters.csv\n",
      "deaths_malaysia.csv\n",
      "deaths_state.csv\n",
      "hospital.csv\n",
      "icu.csv\n",
      "pkrc.csv\n",
      "tests_malaysia.csv\n",
      "tests_state.csv\n"
     ]
    }
   ],
   "source": [
    "for x in epidemic_list:\n",
    "    print(x.name)"
   ]
  },
  {
   "cell_type": "markdown",
   "metadata": {
    "heading_collapsed": "true",
    "tags": []
   },
   "source": [
    "## Shape of Data "
   ]
  },
  {
   "cell_type": "code",
   "execution_count": null,
   "metadata": {
    "tags": []
   },
   "outputs": [],
   "source": [
    "for x in epidemic_list:\n",
    "    print(x.name + \"\\n{row} rows and {column} columns\".format(row=x.shape[0], column=x.shape[1]) + \"\\n\")"
   ]
  },
  {
   "cell_type": "markdown",
   "metadata": {
    "tags": []
   },
   "source": [
    "## Missing Value"
   ]
  },
  {
   "cell_type": "code",
   "execution_count": null,
   "metadata": {
    "tags": []
   },
   "outputs": [],
   "source": [
    "for x in epidemic_list:\n",
    "    print(x.name )\n",
    "    print(x.isna().sum())\n",
    "    print('\\n')"
   ]
  },
  {
   "cell_type": "markdown",
   "metadata": {
    "tags": []
   },
   "source": [
    "## First data and last date"
   ]
  },
  {
   "cell_type": "code",
   "execution_count": null,
   "metadata": {
    "tags": []
   },
   "outputs": [],
   "source": [
    "for x in epidemic_list:\n",
    "    try:\n",
    "        print(x.name)\n",
    "        x = x.iloc[[0, -1]]\n",
    "        print(x.date)\n",
    "        print('\\n')\n",
    "    except:\n",
    "        print('date not found')\n",
    "        print('\\n')"
   ]
  },
  {
   "cell_type": "markdown",
   "metadata": {
    "jp-MarkdownHeadingCollapsed": true,
    "tags": []
   },
   "source": [
    "# Vacination Data"
   ]
  },
  {
   "cell_type": "code",
   "execution_count": null,
   "metadata": {},
   "outputs": [],
   "source": [
    "vaxcination_list = []\n",
    "importCsv('vaxcination data',vaxcination_list )"
   ]
  },
  {
   "cell_type": "code",
   "execution_count": null,
   "metadata": {},
   "outputs": [],
   "source": [
    "for x in vaxcination_list:\n",
    "    print(x.name)"
   ]
  },
  {
   "cell_type": "markdown",
   "metadata": {
    "heading_collapsed": "true",
    "tags": []
   },
   "source": [
    "## Shape of Data"
   ]
  },
  {
   "cell_type": "code",
   "execution_count": null,
   "metadata": {},
   "outputs": [],
   "source": [
    "for x in vaxcination_list:\n",
    "    print(x.name + \"\\n{row} rows and {column} columns\".format(row=x.shape[0], column=x.shape[1]) + \"\\n\")"
   ]
  },
  {
   "cell_type": "markdown",
   "metadata": {
    "tags": []
   },
   "source": [
    "## Missing Values"
   ]
  },
  {
   "cell_type": "code",
   "execution_count": null,
   "metadata": {},
   "outputs": [],
   "source": [
    "for x in vaxcination_list:\n",
    "    print(x.name )\n",
    "    print(x.isna().sum())\n",
    "    print('\\n')"
   ]
  },
  {
   "cell_type": "markdown",
   "metadata": {
    "tags": []
   },
   "source": [
    "## First data and last data"
   ]
  },
  {
   "cell_type": "code",
   "execution_count": null,
   "metadata": {
    "tags": []
   },
   "outputs": [],
   "source": [
    "for x in vaxcination_list:\n",
    "    try:\n",
    "        print(x.name)\n",
    "        x = x.iloc[[0, -1]]\n",
    "        print(x.date)\n",
    "        print('\\n')\n",
    "    except:\n",
    "        print('date not found')\n",
    "        print('\\n')"
   ]
  },
  {
   "cell_type": "markdown",
   "metadata": {
    "jp-MarkdownHeadingCollapsed": true,
    "tags": []
   },
   "source": [
    "# Vacination Regristration Data"
   ]
  },
  {
   "cell_type": "code",
   "execution_count": null,
   "metadata": {},
   "outputs": [],
   "source": [
    "vax_regristration_list = []\n",
    "importCsv('vax_regristration',vax_regristration_list )"
   ]
  },
  {
   "cell_type": "code",
   "execution_count": null,
   "metadata": {},
   "outputs": [],
   "source": [
    "for x in vax_regristration_list:\n",
    "    print(x.name)"
   ]
  },
  {
   "cell_type": "markdown",
   "metadata": {
    "heading_collapsed": "true",
    "tags": []
   },
   "source": [
    "## Shape of Data"
   ]
  },
  {
   "cell_type": "code",
   "execution_count": null,
   "metadata": {},
   "outputs": [],
   "source": [
    "for x in vax_regristration_list:\n",
    "    print(x.name + \"\\n{row} rows and {column} columns\".format(row=x.shape[0], column=x.shape[1]) + \"\\n\")"
   ]
  },
  {
   "cell_type": "markdown",
   "metadata": {
    "tags": []
   },
   "source": [
    "## Missing Values"
   ]
  },
  {
   "cell_type": "code",
   "execution_count": null,
   "metadata": {},
   "outputs": [],
   "source": [
    "for x in vax_regristration_list:\n",
    "    print(x.name )\n",
    "    print(x.isna().sum())\n",
    "    print('\\n')"
   ]
  },
  {
   "cell_type": "markdown",
   "metadata": {
    "tags": []
   },
   "source": [
    "## First data and last data"
   ]
  },
  {
   "cell_type": "code",
   "execution_count": null,
   "metadata": {},
   "outputs": [],
   "source": [
    "for x in vaxcination_list:\n",
    "    try:\n",
    "        print(x.name)\n",
    "        x = x.iloc[[0, -1]]\n",
    "        print(x.date)\n",
    "        print('\\n')\n",
    "    except:\n",
    "        print('date not found')\n",
    "        print('\\n')"
   ]
  },
  {
   "cell_type": "markdown",
   "metadata": {
    "jp-MarkdownHeadingCollapsed": true,
    "tags": []
   },
   "source": [
    "# Vacination side effect data"
   ]
  },
  {
   "cell_type": "code",
   "execution_count": null,
   "metadata": {},
   "outputs": [],
   "source": [
    "vax_side_effect = []\n",
    "importCsv('vax side effect',vax_side_effect)"
   ]
  },
  {
   "cell_type": "code",
   "execution_count": null,
   "metadata": {},
   "outputs": [],
   "source": [
    "for x in vax_side_effect:\n",
    "    print(x.name)"
   ]
  },
  {
   "cell_type": "markdown",
   "metadata": {
    "heading_collapsed": "true",
    "jp-MarkdownHeadingCollapsed": true,
    "tags": []
   },
   "source": [
    "## Shape of Data"
   ]
  },
  {
   "cell_type": "code",
   "execution_count": null,
   "metadata": {},
   "outputs": [],
   "source": [
    "for x in vax_side_effect:\n",
    "    print(x.name + \"\\n{row} rows and {column} columns\".format(row=x.shape[0], column=x.shape[1]) + \"\\n\")"
   ]
  },
  {
   "cell_type": "markdown",
   "metadata": {
    "jp-MarkdownHeadingCollapsed": true,
    "tags": []
   },
   "source": [
    "## Missing Values"
   ]
  },
  {
   "cell_type": "code",
   "execution_count": null,
   "metadata": {},
   "outputs": [],
   "source": [
    "for x in vax_side_effect:\n",
    "    print(x.name )\n",
    "    print(x.isna().sum())\n",
    "    print('\\n')"
   ]
  },
  {
   "cell_type": "markdown",
   "metadata": {
    "jp-MarkdownHeadingCollapsed": true,
    "tags": []
   },
   "source": [
    "## First data and last data"
   ]
  },
  {
   "cell_type": "code",
   "execution_count": null,
   "metadata": {},
   "outputs": [],
   "source": [
    "for x in vaxcination_list:\n",
    "    try:\n",
    "        print(x.name)\n",
    "        x = x.iloc[[0, -1]]\n",
    "        print(x.date)\n",
    "        print('\\n')\n",
    "    except:\n",
    "        print('date not found')\n",
    "        print('\\n')"
   ]
  },
  {
   "cell_type": "markdown",
   "metadata": {
    "tags": []
   },
   "source": [
    "# EDA Question"
   ]
  },
  {
   "cell_type": "markdown",
   "metadata": {
    "tags": []
   },
   "source": [
    "## Has vaccination helped reduced the daily cases?"
   ]
  },
  {
   "cell_type": "code",
   "execution_count": null,
   "metadata": {},
   "outputs": [],
   "source": [
    "vax_msia = vaxcination_list[0]\n",
    "vax_state = vaxcination_list[1]"
   ]
  },
  {
   "cell_type": "code",
   "execution_count": null,
   "metadata": {},
   "outputs": [],
   "source": [
    "vax_msia"
   ]
  },
  {
   "cell_type": "code",
   "execution_count": null,
   "metadata": {},
   "outputs": [],
   "source": [
    "vax_msia['date'] = pd.to_datetime(vax_msia['date'],errors='coerce')"
   ]
  },
  {
   "cell_type": "code",
   "execution_count": null,
   "metadata": {},
   "outputs": [],
   "source": [
    "cases_msia = epidemic_list[0]\n",
    "cases_state = epidemic_list[1]"
   ]
  },
  {
   "cell_type": "code",
   "execution_count": null,
   "metadata": {},
   "outputs": [],
   "source": [
    "cases_msia['date'] = pd.to_datetime(cases_msia['date'],errors='coerce')"
   ]
  },
  {
   "cell_type": "code",
   "execution_count": null,
   "metadata": {},
   "outputs": [],
   "source": [
    "vax_cases = vax_msia.merge(cases_msia,how='inner',on='date')"
   ]
  },
  {
   "cell_type": "code",
   "execution_count": 154,
   "metadata": {},
   "outputs": [],
   "source": [
    "pd.set_option('display.max_columns', None)"
   ]
  },
  {
   "cell_type": "code",
   "execution_count": 95,
   "metadata": {},
   "outputs": [],
   "source": [
    "vax_cases['date'] = pd.to_datetime(vax_cases['date'],errors='coerce')"
   ]
  },
  {
   "cell_type": "markdown",
   "metadata": {},
   "source": [
    "### Pfizer"
   ]
  },
  {
   "cell_type": "code",
   "execution_count": 116,
   "metadata": {},
   "outputs": [],
   "source": [
    "pfizer = pd.DataFrame()\n",
    "pfizer['date'] = vax_cases['date']\n",
    "pfizer['pfizer1'] = vax_cases['pfizer1']\n",
    "pfizer['pfizer2'] = vax_cases['pfizer2']"
   ]
  },
  {
   "cell_type": "code",
   "execution_count": 155,
   "metadata": {},
   "outputs": [
    {
     "data": {
      "text/html": [
       "<div>\n",
       "<style scoped>\n",
       "    .dataframe tbody tr th:only-of-type {\n",
       "        vertical-align: middle;\n",
       "    }\n",
       "\n",
       "    .dataframe tbody tr th {\n",
       "        vertical-align: top;\n",
       "    }\n",
       "\n",
       "    .dataframe thead th {\n",
       "        text-align: right;\n",
       "    }\n",
       "</style>\n",
       "<table border=\"1\" class=\"dataframe\">\n",
       "  <thead>\n",
       "    <tr style=\"text-align: right;\">\n",
       "      <th></th>\n",
       "      <th>date</th>\n",
       "      <th>pfizer1</th>\n",
       "      <th>pfizer2</th>\n",
       "    </tr>\n",
       "  </thead>\n",
       "  <tbody>\n",
       "    <tr>\n",
       "      <th>0</th>\n",
       "      <td>2021-02-24</td>\n",
       "      <td>60</td>\n",
       "      <td>0</td>\n",
       "    </tr>\n",
       "    <tr>\n",
       "      <th>1</th>\n",
       "      <td>2021-02-25</td>\n",
       "      <td>1146</td>\n",
       "      <td>0</td>\n",
       "    </tr>\n",
       "    <tr>\n",
       "      <th>2</th>\n",
       "      <td>2021-02-26</td>\n",
       "      <td>4115</td>\n",
       "      <td>1</td>\n",
       "    </tr>\n",
       "    <tr>\n",
       "      <th>3</th>\n",
       "      <td>2021-02-27</td>\n",
       "      <td>6723</td>\n",
       "      <td>1</td>\n",
       "    </tr>\n",
       "    <tr>\n",
       "      <th>4</th>\n",
       "      <td>2021-02-28</td>\n",
       "      <td>6699</td>\n",
       "      <td>3</td>\n",
       "    </tr>\n",
       "    <tr>\n",
       "      <th>...</th>\n",
       "      <td>...</td>\n",
       "      <td>...</td>\n",
       "      <td>...</td>\n",
       "    </tr>\n",
       "    <tr>\n",
       "      <th>219</th>\n",
       "      <td>2021-10-01</td>\n",
       "      <td>97848</td>\n",
       "      <td>82203</td>\n",
       "    </tr>\n",
       "    <tr>\n",
       "      <th>220</th>\n",
       "      <td>2021-10-02</td>\n",
       "      <td>85634</td>\n",
       "      <td>73484</td>\n",
       "    </tr>\n",
       "    <tr>\n",
       "      <th>221</th>\n",
       "      <td>2021-10-03</td>\n",
       "      <td>87792</td>\n",
       "      <td>66883</td>\n",
       "    </tr>\n",
       "    <tr>\n",
       "      <th>222</th>\n",
       "      <td>2021-10-04</td>\n",
       "      <td>123351</td>\n",
       "      <td>58454</td>\n",
       "    </tr>\n",
       "    <tr>\n",
       "      <th>223</th>\n",
       "      <td>2021-10-05</td>\n",
       "      <td>119323</td>\n",
       "      <td>59655</td>\n",
       "    </tr>\n",
       "  </tbody>\n",
       "</table>\n",
       "<p>224 rows × 3 columns</p>\n",
       "</div>"
      ],
      "text/plain": [
       "          date  pfizer1  pfizer2\n",
       "0   2021-02-24       60        0\n",
       "1   2021-02-25     1146        0\n",
       "2   2021-02-26     4115        1\n",
       "3   2021-02-27     6723        1\n",
       "4   2021-02-28     6699        3\n",
       "..         ...      ...      ...\n",
       "219 2021-10-01    97848    82203\n",
       "220 2021-10-02    85634    73484\n",
       "221 2021-10-03    87792    66883\n",
       "222 2021-10-04   123351    58454\n",
       "223 2021-10-05   119323    59655\n",
       "\n",
       "[224 rows x 3 columns]"
      ]
     },
     "execution_count": 155,
     "metadata": {},
     "output_type": "execute_result"
    }
   ],
   "source": [
    "pd.set_option('display.max_rows', 20)\n",
    "pfizer"
   ]
  },
  {
   "cell_type": "markdown",
   "metadata": {},
   "source": [
    "### Sinovac"
   ]
  },
  {
   "cell_type": "code",
   "execution_count": 117,
   "metadata": {},
   "outputs": [],
   "source": [
    "sinovac = pd.DataFrame()\n",
    "sinovac['date'] = vax_cases['date']\n",
    "sinovac['sinovac1'] = vax_cases['sinovac1']\n",
    "sinovac['sinovac2'] = vax_cases['sinovac2']"
   ]
  },
  {
   "cell_type": "markdown",
   "metadata": {},
   "source": [
    "### AstraZeneca"
   ]
  },
  {
   "cell_type": "code",
   "execution_count": 118,
   "metadata": {},
   "outputs": [],
   "source": [
    "az = pd.DataFrame()\n",
    "az['date'] = vax_cases['date']\n",
    "az['astra1'] = vax_cases['astra1']\n",
    "az['astra2'] = vax_cases['astra2']"
   ]
  },
  {
   "cell_type": "markdown",
   "metadata": {},
   "source": [
    "### Cansino"
   ]
  },
  {
   "cell_type": "code",
   "execution_count": 119,
   "metadata": {},
   "outputs": [],
   "source": [
    "cansino = pd.DataFrame()\n",
    "cansino['date'] = vax_cases['date']\n",
    "cansino['cansino'] = vax_cases['cansino']"
   ]
  },
  {
   "cell_type": "markdown",
   "metadata": {},
   "source": [
    "### Everything combined"
   ]
  },
  {
   "cell_type": "code",
   "execution_count": 107,
   "metadata": {},
   "outputs": [],
   "source": [
    "from functools import reduce"
   ]
  },
  {
   "cell_type": "code",
   "execution_count": 139,
   "metadata": {},
   "outputs": [],
   "source": [
    "allvax = [pfizer,sinovac,az,cansino]"
   ]
  },
  {
   "cell_type": "code",
   "execution_count": 140,
   "metadata": {},
   "outputs": [],
   "source": [
    "allvax = reduce(lambda  left,right: pd.merge(left,right,on=['date'],\n",
    "                                            how='outer'), allvax)"
   ]
  },
  {
   "cell_type": "code",
   "execution_count": 141,
   "metadata": {},
   "outputs": [],
   "source": [
    "from datetime import timedelta\n",
    "from dateutil.relativedelta import *\n",
    "\n",
    "allvax['Cumulative Partial'] = vax_cases['cumul_partial']\n",
    "allvax['Cumulative Fully'] = vax_cases['cumul_full']\n",
    "allvax['CasesOnThatDay'] = vax_cases['cases_new']\n",
    "allvax['Cases 7 days later'] = 0\n",
    "allvax['Cases 14 days later'] = 0\n",
    "\n",
    "for j in range(len(allvax)):\n",
    "  date = allvax['date'][j] + relativedelta(weeks=+(1))\n",
    "  after7days = allvax[allvax['date'] == date]\n",
    "  if after7days.empty:\n",
    "    allvax.iloc[[j],[11]] = 0\n",
    "  else:\n",
    "    allvax.iloc[[j],[11]] = after7days.CasesOnThatDay.values[0]\n",
    "    \n",
    "for i in range(len(pfizer)):\n",
    "  date = allvax['date'][i] + relativedelta(weeks=+(2))\n",
    "  after14days = allvax[allvax['date'] == date]\n",
    "  if after14days.empty:\n",
    "    allvax.iloc[[i],[12]] = 0\n",
    "  else:\n",
    "    allvax.iloc[[i],[12]] = after14days.CasesOnThatDay.values[0]"
   ]
  },
  {
   "cell_type": "code",
   "execution_count": 256,
   "metadata": {},
   "outputs": [
    {
     "data": {
      "text/html": [
       "<div>\n",
       "<style scoped>\n",
       "    .dataframe tbody tr th:only-of-type {\n",
       "        vertical-align: middle;\n",
       "    }\n",
       "\n",
       "    .dataframe tbody tr th {\n",
       "        vertical-align: top;\n",
       "    }\n",
       "\n",
       "    .dataframe thead th {\n",
       "        text-align: right;\n",
       "    }\n",
       "</style>\n",
       "<table border=\"1\" class=\"dataframe\">\n",
       "  <thead>\n",
       "    <tr style=\"text-align: right;\">\n",
       "      <th></th>\n",
       "      <th>date</th>\n",
       "      <th>pfizer1</th>\n",
       "      <th>pfizer2</th>\n",
       "      <th>sinovac1</th>\n",
       "      <th>sinovac2</th>\n",
       "      <th>astra1</th>\n",
       "      <th>astra2</th>\n",
       "      <th>cansino</th>\n",
       "      <th>Cumulative Partial</th>\n",
       "      <th>Cumulative Fully</th>\n",
       "      <th>CasesOnThatDay</th>\n",
       "      <th>Cases 7 days later</th>\n",
       "      <th>Cases 14 days later</th>\n",
       "    </tr>\n",
       "  </thead>\n",
       "  <tbody>\n",
       "    <tr>\n",
       "      <th>0</th>\n",
       "      <td>2021-02-24</td>\n",
       "      <td>60</td>\n",
       "      <td>0</td>\n",
       "      <td>0</td>\n",
       "      <td>0</td>\n",
       "      <td>0</td>\n",
       "      <td>0</td>\n",
       "      <td>0</td>\n",
       "      <td>60</td>\n",
       "      <td>0</td>\n",
       "      <td>3545</td>\n",
       "      <td>1745</td>\n",
       "      <td>1448</td>\n",
       "    </tr>\n",
       "    <tr>\n",
       "      <th>1</th>\n",
       "      <td>2021-02-25</td>\n",
       "      <td>1146</td>\n",
       "      <td>0</td>\n",
       "      <td>0</td>\n",
       "      <td>0</td>\n",
       "      <td>0</td>\n",
       "      <td>0</td>\n",
       "      <td>0</td>\n",
       "      <td>1206</td>\n",
       "      <td>0</td>\n",
       "      <td>1924</td>\n",
       "      <td>2063</td>\n",
       "      <td>1647</td>\n",
       "    </tr>\n",
       "    <tr>\n",
       "      <th>2</th>\n",
       "      <td>2021-02-26</td>\n",
       "      <td>4115</td>\n",
       "      <td>1</td>\n",
       "      <td>0</td>\n",
       "      <td>0</td>\n",
       "      <td>0</td>\n",
       "      <td>0</td>\n",
       "      <td>0</td>\n",
       "      <td>5321</td>\n",
       "      <td>1</td>\n",
       "      <td>2253</td>\n",
       "      <td>2154</td>\n",
       "      <td>1575</td>\n",
       "    </tr>\n",
       "    <tr>\n",
       "      <th>3</th>\n",
       "      <td>2021-02-27</td>\n",
       "      <td>6723</td>\n",
       "      <td>1</td>\n",
       "      <td>0</td>\n",
       "      <td>0</td>\n",
       "      <td>0</td>\n",
       "      <td>0</td>\n",
       "      <td>0</td>\n",
       "      <td>12044</td>\n",
       "      <td>2</td>\n",
       "      <td>2364</td>\n",
       "      <td>1680</td>\n",
       "      <td>1470</td>\n",
       "    </tr>\n",
       "    <tr>\n",
       "      <th>4</th>\n",
       "      <td>2021-02-28</td>\n",
       "      <td>6699</td>\n",
       "      <td>3</td>\n",
       "      <td>0</td>\n",
       "      <td>0</td>\n",
       "      <td>0</td>\n",
       "      <td>0</td>\n",
       "      <td>0</td>\n",
       "      <td>18743</td>\n",
       "      <td>5</td>\n",
       "      <td>2437</td>\n",
       "      <td>1683</td>\n",
       "      <td>1354</td>\n",
       "    </tr>\n",
       "    <tr>\n",
       "      <th>...</th>\n",
       "      <td>...</td>\n",
       "      <td>...</td>\n",
       "      <td>...</td>\n",
       "      <td>...</td>\n",
       "      <td>...</td>\n",
       "      <td>...</td>\n",
       "      <td>...</td>\n",
       "      <td>...</td>\n",
       "      <td>...</td>\n",
       "      <td>...</td>\n",
       "      <td>...</td>\n",
       "      <td>...</td>\n",
       "      <td>...</td>\n",
       "    </tr>\n",
       "    <tr>\n",
       "      <th>219</th>\n",
       "      <td>2021-10-01</td>\n",
       "      <td>97848</td>\n",
       "      <td>82203</td>\n",
       "      <td>2090</td>\n",
       "      <td>13476</td>\n",
       "      <td>91</td>\n",
       "      <td>33649</td>\n",
       "      <td>1339</td>\n",
       "      <td>23645337</td>\n",
       "      <td>20389622</td>\n",
       "      <td>11889</td>\n",
       "      <td>0</td>\n",
       "      <td>0</td>\n",
       "    </tr>\n",
       "    <tr>\n",
       "      <th>220</th>\n",
       "      <td>2021-10-02</td>\n",
       "      <td>85634</td>\n",
       "      <td>73484</td>\n",
       "      <td>1907</td>\n",
       "      <td>13712</td>\n",
       "      <td>116</td>\n",
       "      <td>32558</td>\n",
       "      <td>1644</td>\n",
       "      <td>23736676</td>\n",
       "      <td>20511444</td>\n",
       "      <td>10915</td>\n",
       "      <td>0</td>\n",
       "      <td>0</td>\n",
       "    </tr>\n",
       "    <tr>\n",
       "      <th>221</th>\n",
       "      <td>2021-10-03</td>\n",
       "      <td>87792</td>\n",
       "      <td>66883</td>\n",
       "      <td>1907</td>\n",
       "      <td>9508</td>\n",
       "      <td>18</td>\n",
       "      <td>33146</td>\n",
       "      <td>682</td>\n",
       "      <td>23833382</td>\n",
       "      <td>20621994</td>\n",
       "      <td>9066</td>\n",
       "      <td>0</td>\n",
       "      <td>0</td>\n",
       "    </tr>\n",
       "    <tr>\n",
       "      <th>222</th>\n",
       "      <td>2021-10-04</td>\n",
       "      <td>123351</td>\n",
       "      <td>58454</td>\n",
       "      <td>2620</td>\n",
       "      <td>8339</td>\n",
       "      <td>144</td>\n",
       "      <td>26749</td>\n",
       "      <td>1348</td>\n",
       "      <td>23961163</td>\n",
       "      <td>20717373</td>\n",
       "      <td>8075</td>\n",
       "      <td>0</td>\n",
       "      <td>0</td>\n",
       "    </tr>\n",
       "    <tr>\n",
       "      <th>223</th>\n",
       "      <td>2021-10-05</td>\n",
       "      <td>119323</td>\n",
       "      <td>59655</td>\n",
       "      <td>2440</td>\n",
       "      <td>13395</td>\n",
       "      <td>130</td>\n",
       "      <td>26496</td>\n",
       "      <td>1828</td>\n",
       "      <td>24085144</td>\n",
       "      <td>20819254</td>\n",
       "      <td>8817</td>\n",
       "      <td>0</td>\n",
       "      <td>0</td>\n",
       "    </tr>\n",
       "  </tbody>\n",
       "</table>\n",
       "<p>224 rows × 13 columns</p>\n",
       "</div>"
      ],
      "text/plain": [
       "          date  pfizer1  pfizer2  sinovac1  sinovac2  astra1  astra2  cansino  \\\n",
       "0   2021-02-24       60        0         0         0       0       0        0   \n",
       "1   2021-02-25     1146        0         0         0       0       0        0   \n",
       "2   2021-02-26     4115        1         0         0       0       0        0   \n",
       "3   2021-02-27     6723        1         0         0       0       0        0   \n",
       "4   2021-02-28     6699        3         0         0       0       0        0   \n",
       "..         ...      ...      ...       ...       ...     ...     ...      ...   \n",
       "219 2021-10-01    97848    82203      2090     13476      91   33649     1339   \n",
       "220 2021-10-02    85634    73484      1907     13712     116   32558     1644   \n",
       "221 2021-10-03    87792    66883      1907      9508      18   33146      682   \n",
       "222 2021-10-04   123351    58454      2620      8339     144   26749     1348   \n",
       "223 2021-10-05   119323    59655      2440     13395     130   26496     1828   \n",
       "\n",
       "     Cumulative Partial  Cumulative Fully  CasesOnThatDay  Cases 7 days later  \\\n",
       "0                    60                 0            3545                1745   \n",
       "1                  1206                 0            1924                2063   \n",
       "2                  5321                 1            2253                2154   \n",
       "3                 12044                 2            2364                1680   \n",
       "4                 18743                 5            2437                1683   \n",
       "..                  ...               ...             ...                 ...   \n",
       "219            23645337          20389622           11889                   0   \n",
       "220            23736676          20511444           10915                   0   \n",
       "221            23833382          20621994            9066                   0   \n",
       "222            23961163          20717373            8075                   0   \n",
       "223            24085144          20819254            8817                   0   \n",
       "\n",
       "     Cases 14 days later  \n",
       "0                   1448  \n",
       "1                   1647  \n",
       "2                   1575  \n",
       "3                   1470  \n",
       "4                   1354  \n",
       "..                   ...  \n",
       "219                    0  \n",
       "220                    0  \n",
       "221                    0  \n",
       "222                    0  \n",
       "223                    0  \n",
       "\n",
       "[224 rows x 13 columns]"
      ]
     },
     "execution_count": 256,
     "metadata": {},
     "output_type": "execute_result"
    }
   ],
   "source": [
    "allvax"
   ]
  },
  {
   "cell_type": "markdown",
   "metadata": {
    "tags": []
   },
   "source": [
    "## What state(s) require attention now?"
   ]
  },
  {
   "cell_type": "markdown",
   "metadata": {},
   "source": [
    "There are many aspect in which a state can be given attention. Hence, we have decided to measure the seriousness of COVID-19 in each state by the following aspects:\n",
    "\n",
    "1.) Percent of population infected with COVID-19 of a state  <br>\n",
    "2.) Percent of population vaccinated of a state<br>\n",
    "3.) The testing rate of a state<br>\n",
    "<br>"
   ]
  },
  {
   "cell_type": "markdown",
   "metadata": {
    "tags": []
   },
   "source": [
    "### Percent of population infected with COVID-19 of a state"
   ]
  },
  {
   "attachments": {
    "91847bf4-6eb9-4d50-9ec4-2a11d1461d71.png": {
     "image/png": "[encoded data removed]"
    }
   },
   "cell_type": "markdown",
   "metadata": {},
   "source": [
    "The formula to calculate Percent of population infected with COVID-19 of a state is shown in the figure below: <br>\n",
    "<br>\n",
    "![infected_formula.png](attachment:91847bf4-6eb9-4d50-9ec4-2a11d1461d71.png)\n",
    "<br>"
   ]
  },
  {
   "cell_type": "code",
   "execution_count": 149,
   "metadata": {},
   "outputs": [
    {
     "data": {
      "text/html": [
       "<div>\n",
       "<style scoped>\n",
       "    .dataframe tbody tr th:only-of-type {\n",
       "        vertical-align: middle;\n",
       "    }\n",
       "\n",
       "    .dataframe tbody tr th {\n",
       "        vertical-align: top;\n",
       "    }\n",
       "\n",
       "    .dataframe thead th {\n",
       "        text-align: right;\n",
       "    }\n",
       "</style>\n",
       "<table border=\"1\" class=\"dataframe\">\n",
       "  <thead>\n",
       "    <tr style=\"text-align: right;\">\n",
       "      <th></th>\n",
       "      <th>date</th>\n",
       "      <th>state</th>\n",
       "      <th>cases_new</th>\n",
       "      <th>cases_import</th>\n",
       "      <th>cases_recovered</th>\n",
       "      <th>cases_active</th>\n",
       "      <th>cases_cluster</th>\n",
       "      <th>cases_pvax</th>\n",
       "      <th>cases_fvax</th>\n",
       "      <th>cases_child</th>\n",
       "      <th>cases_adolescent</th>\n",
       "      <th>cases_adult</th>\n",
       "      <th>cases_elderly</th>\n",
       "    </tr>\n",
       "  </thead>\n",
       "  <tbody>\n",
       "    <tr>\n",
       "      <th>0</th>\n",
       "      <td>2020-01-25</td>\n",
       "      <td>Johor</td>\n",
       "      <td>4</td>\n",
       "      <td>4</td>\n",
       "      <td>0</td>\n",
       "      <td>4</td>\n",
       "      <td>0</td>\n",
       "      <td>0</td>\n",
       "      <td>0</td>\n",
       "      <td>0</td>\n",
       "      <td>0</td>\n",
       "      <td>1</td>\n",
       "      <td>0</td>\n",
       "    </tr>\n",
       "    <tr>\n",
       "      <th>1</th>\n",
       "      <td>2020-01-25</td>\n",
       "      <td>Kedah</td>\n",
       "      <td>0</td>\n",
       "      <td>0</td>\n",
       "      <td>0</td>\n",
       "      <td>0</td>\n",
       "      <td>0</td>\n",
       "      <td>0</td>\n",
       "      <td>0</td>\n",
       "      <td>0</td>\n",
       "      <td>0</td>\n",
       "      <td>0</td>\n",
       "      <td>0</td>\n",
       "    </tr>\n",
       "    <tr>\n",
       "      <th>2</th>\n",
       "      <td>2020-01-25</td>\n",
       "      <td>Kelantan</td>\n",
       "      <td>0</td>\n",
       "      <td>0</td>\n",
       "      <td>0</td>\n",
       "      <td>0</td>\n",
       "      <td>0</td>\n",
       "      <td>0</td>\n",
       "      <td>0</td>\n",
       "      <td>0</td>\n",
       "      <td>0</td>\n",
       "      <td>0</td>\n",
       "      <td>0</td>\n",
       "    </tr>\n",
       "    <tr>\n",
       "      <th>3</th>\n",
       "      <td>2020-01-25</td>\n",
       "      <td>Melaka</td>\n",
       "      <td>0</td>\n",
       "      <td>0</td>\n",
       "      <td>0</td>\n",
       "      <td>0</td>\n",
       "      <td>0</td>\n",
       "      <td>0</td>\n",
       "      <td>0</td>\n",
       "      <td>0</td>\n",
       "      <td>0</td>\n",
       "      <td>0</td>\n",
       "      <td>0</td>\n",
       "    </tr>\n",
       "    <tr>\n",
       "      <th>4</th>\n",
       "      <td>2020-01-25</td>\n",
       "      <td>Negeri Sembilan</td>\n",
       "      <td>0</td>\n",
       "      <td>0</td>\n",
       "      <td>0</td>\n",
       "      <td>0</td>\n",
       "      <td>0</td>\n",
       "      <td>0</td>\n",
       "      <td>0</td>\n",
       "      <td>0</td>\n",
       "      <td>0</td>\n",
       "      <td>0</td>\n",
       "      <td>0</td>\n",
       "    </tr>\n",
       "    <tr>\n",
       "      <th>...</th>\n",
       "      <td>...</td>\n",
       "      <td>...</td>\n",
       "      <td>...</td>\n",
       "      <td>...</td>\n",
       "      <td>...</td>\n",
       "      <td>...</td>\n",
       "      <td>...</td>\n",
       "      <td>...</td>\n",
       "      <td>...</td>\n",
       "      <td>...</td>\n",
       "      <td>...</td>\n",
       "      <td>...</td>\n",
       "      <td>...</td>\n",
       "    </tr>\n",
       "    <tr>\n",
       "      <th>9915</th>\n",
       "      <td>2021-10-05</td>\n",
       "      <td>Selangor</td>\n",
       "      <td>1348</td>\n",
       "      <td>5</td>\n",
       "      <td>1892</td>\n",
       "      <td>19140</td>\n",
       "      <td>102</td>\n",
       "      <td>111</td>\n",
       "      <td>825</td>\n",
       "      <td>191</td>\n",
       "      <td>94</td>\n",
       "      <td>878</td>\n",
       "      <td>109</td>\n",
       "    </tr>\n",
       "    <tr>\n",
       "      <th>9916</th>\n",
       "      <td>2021-10-05</td>\n",
       "      <td>Terengganu</td>\n",
       "      <td>356</td>\n",
       "      <td>0</td>\n",
       "      <td>563</td>\n",
       "      <td>7026</td>\n",
       "      <td>0</td>\n",
       "      <td>43</td>\n",
       "      <td>176</td>\n",
       "      <td>87</td>\n",
       "      <td>40</td>\n",
       "      <td>199</td>\n",
       "      <td>29</td>\n",
       "    </tr>\n",
       "    <tr>\n",
       "      <th>9917</th>\n",
       "      <td>2021-10-05</td>\n",
       "      <td>W.P. Kuala Lumpur</td>\n",
       "      <td>217</td>\n",
       "      <td>0</td>\n",
       "      <td>305</td>\n",
       "      <td>3471</td>\n",
       "      <td>0</td>\n",
       "      <td>15</td>\n",
       "      <td>146</td>\n",
       "      <td>39</td>\n",
       "      <td>13</td>\n",
       "      <td>144</td>\n",
       "      <td>21</td>\n",
       "    </tr>\n",
       "    <tr>\n",
       "      <th>9918</th>\n",
       "      <td>2021-10-05</td>\n",
       "      <td>W.P. Labuan</td>\n",
       "      <td>3</td>\n",
       "      <td>0</td>\n",
       "      <td>9</td>\n",
       "      <td>35</td>\n",
       "      <td>1</td>\n",
       "      <td>0</td>\n",
       "      <td>3</td>\n",
       "      <td>0</td>\n",
       "      <td>0</td>\n",
       "      <td>3</td>\n",
       "      <td>0</td>\n",
       "    </tr>\n",
       "    <tr>\n",
       "      <th>9919</th>\n",
       "      <td>2021-10-05</td>\n",
       "      <td>W.P. Putrajaya</td>\n",
       "      <td>23</td>\n",
       "      <td>0</td>\n",
       "      <td>33</td>\n",
       "      <td>413</td>\n",
       "      <td>0</td>\n",
       "      <td>3</td>\n",
       "      <td>16</td>\n",
       "      <td>4</td>\n",
       "      <td>2</td>\n",
       "      <td>17</td>\n",
       "      <td>0</td>\n",
       "    </tr>\n",
       "  </tbody>\n",
       "</table>\n",
       "<p>9920 rows × 13 columns</p>\n",
       "</div>"
      ],
      "text/plain": [
       "            date              state  cases_new  cases_import  cases_recovered  \\\n",
       "0     2020-01-25              Johor          4             4                0   \n",
       "1     2020-01-25              Kedah          0             0                0   \n",
       "2     2020-01-25           Kelantan          0             0                0   \n",
       "3     2020-01-25             Melaka          0             0                0   \n",
       "4     2020-01-25    Negeri Sembilan          0             0                0   \n",
       "...          ...                ...        ...           ...              ...   \n",
       "9915  2021-10-05           Selangor       1348             5             1892   \n",
       "9916  2021-10-05         Terengganu        356             0              563   \n",
       "9917  2021-10-05  W.P. Kuala Lumpur        217             0              305   \n",
       "9918  2021-10-05        W.P. Labuan          3             0                9   \n",
       "9919  2021-10-05     W.P. Putrajaya         23             0               33   \n",
       "\n",
       "      cases_active  cases_cluster  cases_pvax  cases_fvax  cases_child  \\\n",
       "0                4              0           0           0            0   \n",
       "1                0              0           0           0            0   \n",
       "2                0              0           0           0            0   \n",
       "3                0              0           0           0            0   \n",
       "4                0              0           0           0            0   \n",
       "...            ...            ...         ...         ...          ...   \n",
       "9915         19140            102         111         825          191   \n",
       "9916          7026              0          43         176           87   \n",
       "9917          3471              0          15         146           39   \n",
       "9918            35              1           0           3            0   \n",
       "9919           413              0           3          16            4   \n",
       "\n",
       "      cases_adolescent  cases_adult  cases_elderly  \n",
       "0                    0            1              0  \n",
       "1                    0            0              0  \n",
       "2                    0            0              0  \n",
       "3                    0            0              0  \n",
       "4                    0            0              0  \n",
       "...                ...          ...            ...  \n",
       "9915                94          878            109  \n",
       "9916                40          199             29  \n",
       "9917                13          144             21  \n",
       "9918                 0            3              0  \n",
       "9919                 2           17              0  \n",
       "\n",
       "[9920 rows x 13 columns]"
      ]
     },
     "execution_count": 149,
     "metadata": {},
     "output_type": "execute_result"
    }
   ],
   "source": [
    "cases_state"
   ]
  },
  {
   "cell_type": "code",
   "execution_count": 150,
   "metadata": {},
   "outputs": [],
   "source": [
    "state_list = ['Johor', 'Kedah', 'Kelantan', 'Melaka', 'Negeri Sembilan', 'Pahang',\n",
    " 'Pulau Pinang', 'Perak', 'Perlis', 'Sabah', 'Sarawak', 'Selangor', 'Terengganu',\n",
    " 'W.P. Kuala Lumpur', 'W.P. Labuan', 'W.P. Putrajaya']\n",
    "cases_statedf = []\n",
    "for x in state_list:\n",
    "  cases_statedf.append(cases_state[cases_state['state'] == x].reset_index())"
   ]
  },
  {
   "cell_type": "code",
   "execution_count": 235,
   "metadata": {},
   "outputs": [
    {
     "data": {
      "text/plain": [
       "17743"
      ]
     },
     "execution_count": 235,
     "metadata": {},
     "output_type": "execute_result"
    }
   ],
   "source": [
    "def percentInfected(state,pop):\n",
    "    percent = state / pop\n",
    "    return percent * 100\n",
    "johor_cases['cases_active'].iloc[-1]"
   ]
  },
  {
   "cell_type": "code",
   "execution_count": 248,
   "metadata": {},
   "outputs": [
    {
     "data": {
      "text/plain": [
       "[['Johor', 5.31166358106321, 8.834659470010058, 200834, 3781000],\n",
       " ['Kedah', 6.3151800832913825, 4.135717029124666, 137993, 2185100],\n",
       " ['Kelantan', 6.311060995437143, 8.392544023667655, 120333, 1906700],\n",
       " ['Melaka', 6.391122547442908, 7.223620197953363, 59610, 932700],\n",
       " ['Negeri Sembilan', 8.688253012048193, 1.6966953187931437, 98073, 1128800],\n",
       " ['Pahang', 4.044796568773456, 13.078055964653904, 67900, 1678700],\n",
       " ['Pulau Pinang', 7.54533152909337, 6.1543519846963175, 133824, 1773600],\n",
       " ['Perak', 4.212245548340836, 7.68867032343484, 105740, 2510300],\n",
       " ['Perlis', 1.6398587681443704, 19.066985645933016, 4180, 254900],\n",
       " ['Sabah', 3.087763842153564, 6.362753742359247, 201878, 6538000],\n",
       " ['Sarawak', 17.32121019614071, 12.58584487864812, 218126, 1259300],\n",
       " ['Selangor', 17.491416144300885, 2.7996700075476997, 683652, 3908500],\n",
       " ['Terengganu', 2.0941239126575537, 11.912310744137942, 58981, 2816500],\n",
       " ['W.P. Kuala Lumpur',\n",
       "  10.547837853075492,\n",
       "  1.8552865779022594,\n",
       "  187087,\n",
       "  1773700],\n",
       " ['W.P. Labuan', 10.014056224899598, 0.3509123721676359, 9974, 99600],\n",
       " ['W.P. Putrajaya', 5.701818181818181, 6.584821428571429, 6272, 110000]]"
      ]
     },
     "execution_count": 248,
     "metadata": {},
     "output_type": "execute_result"
    }
   ],
   "source": [
    "percentInfectedList = []\n",
    "i = 1 \n",
    "for x in cases_statedf:\n",
    "    percentInfectedList.append([x['state'][0],percentInfected(x['cases_new'].sum(),pop['pop'][i]),percentInfected(x['cases_active'].iloc[-1],x['cases_new'].sum()),x['cases_new'].sum(),pop['pop'][i]])\n",
    "    i += 1\n",
    "\n",
    "percentInfectedList\n",
    "    "
   ]
  },
  {
   "cell_type": "code",
   "execution_count": 254,
   "metadata": {},
   "outputs": [
    {
     "data": {
      "text/html": [
       "<div>\n",
       "<style scoped>\n",
       "    .dataframe tbody tr th:only-of-type {\n",
       "        vertical-align: middle;\n",
       "    }\n",
       "\n",
       "    .dataframe tbody tr th {\n",
       "        vertical-align: top;\n",
       "    }\n",
       "\n",
       "    .dataframe thead th {\n",
       "        text-align: right;\n",
       "    }\n",
       "</style>\n",
       "<table border=\"1\" class=\"dataframe\">\n",
       "  <thead>\n",
       "    <tr style=\"text-align: right;\">\n",
       "      <th></th>\n",
       "      <th>State</th>\n",
       "      <th>Infected Percentage</th>\n",
       "      <th>Infected Percentage (Active)</th>\n",
       "      <th>Total Infected</th>\n",
       "      <th>Population</th>\n",
       "    </tr>\n",
       "  </thead>\n",
       "  <tbody>\n",
       "    <tr>\n",
       "      <th>0</th>\n",
       "      <td>Selangor</td>\n",
       "      <td>17.491416</td>\n",
       "      <td>2.799670</td>\n",
       "      <td>683652</td>\n",
       "      <td>3908500</td>\n",
       "    </tr>\n",
       "    <tr>\n",
       "      <th>1</th>\n",
       "      <td>Sarawak</td>\n",
       "      <td>17.321210</td>\n",
       "      <td>12.585845</td>\n",
       "      <td>218126</td>\n",
       "      <td>1259300</td>\n",
       "    </tr>\n",
       "    <tr>\n",
       "      <th>2</th>\n",
       "      <td>W.P. Kuala Lumpur</td>\n",
       "      <td>10.547838</td>\n",
       "      <td>1.855287</td>\n",
       "      <td>187087</td>\n",
       "      <td>1773700</td>\n",
       "    </tr>\n",
       "    <tr>\n",
       "      <th>3</th>\n",
       "      <td>W.P. Labuan</td>\n",
       "      <td>10.014056</td>\n",
       "      <td>0.350912</td>\n",
       "      <td>9974</td>\n",
       "      <td>99600</td>\n",
       "    </tr>\n",
       "    <tr>\n",
       "      <th>4</th>\n",
       "      <td>Negeri Sembilan</td>\n",
       "      <td>8.688253</td>\n",
       "      <td>1.696695</td>\n",
       "      <td>98073</td>\n",
       "      <td>1128800</td>\n",
       "    </tr>\n",
       "    <tr>\n",
       "      <th>5</th>\n",
       "      <td>Pulau Pinang</td>\n",
       "      <td>7.545332</td>\n",
       "      <td>6.154352</td>\n",
       "      <td>133824</td>\n",
       "      <td>1773600</td>\n",
       "    </tr>\n",
       "    <tr>\n",
       "      <th>6</th>\n",
       "      <td>Melaka</td>\n",
       "      <td>6.391123</td>\n",
       "      <td>7.223620</td>\n",
       "      <td>59610</td>\n",
       "      <td>932700</td>\n",
       "    </tr>\n",
       "    <tr>\n",
       "      <th>7</th>\n",
       "      <td>Kedah</td>\n",
       "      <td>6.315180</td>\n",
       "      <td>4.135717</td>\n",
       "      <td>137993</td>\n",
       "      <td>2185100</td>\n",
       "    </tr>\n",
       "    <tr>\n",
       "      <th>8</th>\n",
       "      <td>Kelantan</td>\n",
       "      <td>6.311061</td>\n",
       "      <td>8.392544</td>\n",
       "      <td>120333</td>\n",
       "      <td>1906700</td>\n",
       "    </tr>\n",
       "    <tr>\n",
       "      <th>9</th>\n",
       "      <td>W.P. Putrajaya</td>\n",
       "      <td>5.701818</td>\n",
       "      <td>6.584821</td>\n",
       "      <td>6272</td>\n",
       "      <td>110000</td>\n",
       "    </tr>\n",
       "    <tr>\n",
       "      <th>10</th>\n",
       "      <td>Johor</td>\n",
       "      <td>5.311664</td>\n",
       "      <td>8.834659</td>\n",
       "      <td>200834</td>\n",
       "      <td>3781000</td>\n",
       "    </tr>\n",
       "    <tr>\n",
       "      <th>11</th>\n",
       "      <td>Perak</td>\n",
       "      <td>4.212246</td>\n",
       "      <td>7.688670</td>\n",
       "      <td>105740</td>\n",
       "      <td>2510300</td>\n",
       "    </tr>\n",
       "    <tr>\n",
       "      <th>12</th>\n",
       "      <td>Pahang</td>\n",
       "      <td>4.044797</td>\n",
       "      <td>13.078056</td>\n",
       "      <td>67900</td>\n",
       "      <td>1678700</td>\n",
       "    </tr>\n",
       "    <tr>\n",
       "      <th>13</th>\n",
       "      <td>Sabah</td>\n",
       "      <td>3.087764</td>\n",
       "      <td>6.362754</td>\n",
       "      <td>201878</td>\n",
       "      <td>6538000</td>\n",
       "    </tr>\n",
       "    <tr>\n",
       "      <th>14</th>\n",
       "      <td>Terengganu</td>\n",
       "      <td>2.094124</td>\n",
       "      <td>11.912311</td>\n",
       "      <td>58981</td>\n",
       "      <td>2816500</td>\n",
       "    </tr>\n",
       "    <tr>\n",
       "      <th>15</th>\n",
       "      <td>Perlis</td>\n",
       "      <td>1.639859</td>\n",
       "      <td>19.066986</td>\n",
       "      <td>4180</td>\n",
       "      <td>254900</td>\n",
       "    </tr>\n",
       "  </tbody>\n",
       "</table>\n",
       "</div>"
      ],
      "text/plain": [
       "                State  Infected Percentage  Infected Percentage (Active)  \\\n",
       "0            Selangor            17.491416                      2.799670   \n",
       "1             Sarawak            17.321210                     12.585845   \n",
       "2   W.P. Kuala Lumpur            10.547838                      1.855287   \n",
       "3         W.P. Labuan            10.014056                      0.350912   \n",
       "4     Negeri Sembilan             8.688253                      1.696695   \n",
       "5        Pulau Pinang             7.545332                      6.154352   \n",
       "6              Melaka             6.391123                      7.223620   \n",
       "7               Kedah             6.315180                      4.135717   \n",
       "8            Kelantan             6.311061                      8.392544   \n",
       "9      W.P. Putrajaya             5.701818                      6.584821   \n",
       "10              Johor             5.311664                      8.834659   \n",
       "11              Perak             4.212246                      7.688670   \n",
       "12             Pahang             4.044797                     13.078056   \n",
       "13              Sabah             3.087764                      6.362754   \n",
       "14         Terengganu             2.094124                     11.912311   \n",
       "15             Perlis             1.639859                     19.066986   \n",
       "\n",
       "    Total Infected  Population  \n",
       "0           683652     3908500  \n",
       "1           218126     1259300  \n",
       "2           187087     1773700  \n",
       "3             9974       99600  \n",
       "4            98073     1128800  \n",
       "5           133824     1773600  \n",
       "6            59610      932700  \n",
       "7           137993     2185100  \n",
       "8           120333     1906700  \n",
       "9             6272      110000  \n",
       "10          200834     3781000  \n",
       "11          105740     2510300  \n",
       "12           67900     1678700  \n",
       "13          201878     6538000  \n",
       "14           58981     2816500  \n",
       "15            4180      254900  "
      ]
     },
     "execution_count": 254,
     "metadata": {},
     "output_type": "execute_result"
    }
   ],
   "source": [
    "state_infected = pd.DataFrame(data =percentInfectedList,columns=['State','Infected Percentage','Infected Percentage (Active)','Total Infected','Population'] )\n",
    "state_infected.sort_values(by='Infected Percentage',ascending = False).reset_index().drop('index',axis=1)"
   ]
  },
  {
   "cell_type": "markdown",
   "metadata": {},
   "source": [
    "### Percent of population vaccinated of a state"
   ]
  },
  {
   "cell_type": "code",
   "execution_count": 265,
   "metadata": {},
   "outputs": [
    {
     "data": {
      "text/plain": [
       "[['Johor', 60.87892092039143, 3781000],\n",
       " ['Kedah', 55.0134547617958, 2185100],\n",
       " ['Kelantan', 47.12435097288509, 1906700],\n",
       " ['Melaka', 64.53875844322934, 932700],\n",
       " ['Negeri Sembilan', 71.04119418851879, 1128800],\n",
       " ['Pahang', 55.07446238160482, 1678700],\n",
       " ['Pulau Pinang', 66.78822733423544, 1773600],\n",
       " ['Perak', 57.045054375971006, 2510300],\n",
       " ['Perlis', 65.94468418987839, 254900],\n",
       " ['Sabah', 26.57779137350872, 6538000],\n",
       " ['Sarawak', 150.99388549193998, 1259300],\n",
       " ['Selangor', 103.06373288985544, 3908500],\n",
       " ['Terengganu', 24.787147168471506, 2816500],\n",
       " ['W.P. Kuala Lumpur', 154.66070925184644, 1773700],\n",
       " ['W.P. Labuan', 69.85642570281124, 99600],\n",
       " ['W.P. Putrajaya', 114.05363636363637, 110000]]"
      ]
     },
     "execution_count": 265,
     "metadata": {},
     "output_type": "execute_result"
    }
   ],
   "source": [
    "vax_statedf = []\n",
    "for x in state_list:\n",
    "  vax_statedf.append(vax_state[vax_state['state'] == x].reset_index())\n",
    "\n",
    "\n",
    "percentVaccinatedList = []\n",
    "i = 1 \n",
    "for x in vax_statedf:\n",
    "    percentVaccinatedList.append([x['state'][0],percentInfected(x['cumul_full'].iloc[-1],pop['pop'][i]),pop['pop'][i]])\n",
    "    i += 1\n",
    "\n",
    "percentVaccinatedList\n",
    "    "
   ]
  },
  {
   "cell_type": "code",
   "execution_count": 267,
   "metadata": {},
   "outputs": [
    {
     "data": {
      "text/html": [
       "<div>\n",
       "<style scoped>\n",
       "    .dataframe tbody tr th:only-of-type {\n",
       "        vertical-align: middle;\n",
       "    }\n",
       "\n",
       "    .dataframe tbody tr th {\n",
       "        vertical-align: top;\n",
       "    }\n",
       "\n",
       "    .dataframe thead th {\n",
       "        text-align: right;\n",
       "    }\n",
       "</style>\n",
       "<table border=\"1\" class=\"dataframe\">\n",
       "  <thead>\n",
       "    <tr style=\"text-align: right;\">\n",
       "      <th></th>\n",
       "      <th>State</th>\n",
       "      <th>Vaccinated Percentage</th>\n",
       "      <th>Population</th>\n",
       "    </tr>\n",
       "  </thead>\n",
       "  <tbody>\n",
       "    <tr>\n",
       "      <th>0</th>\n",
       "      <td>Johor</td>\n",
       "      <td>60.878921</td>\n",
       "      <td>3781000</td>\n",
       "    </tr>\n",
       "    <tr>\n",
       "      <th>1</th>\n",
       "      <td>Kedah</td>\n",
       "      <td>55.013455</td>\n",
       "      <td>2185100</td>\n",
       "    </tr>\n",
       "    <tr>\n",
       "      <th>2</th>\n",
       "      <td>Kelantan</td>\n",
       "      <td>47.124351</td>\n",
       "      <td>1906700</td>\n",
       "    </tr>\n",
       "    <tr>\n",
       "      <th>3</th>\n",
       "      <td>Melaka</td>\n",
       "      <td>64.538758</td>\n",
       "      <td>932700</td>\n",
       "    </tr>\n",
       "    <tr>\n",
       "      <th>4</th>\n",
       "      <td>Negeri Sembilan</td>\n",
       "      <td>71.041194</td>\n",
       "      <td>1128800</td>\n",
       "    </tr>\n",
       "    <tr>\n",
       "      <th>5</th>\n",
       "      <td>Pahang</td>\n",
       "      <td>55.074462</td>\n",
       "      <td>1678700</td>\n",
       "    </tr>\n",
       "    <tr>\n",
       "      <th>6</th>\n",
       "      <td>Pulau Pinang</td>\n",
       "      <td>66.788227</td>\n",
       "      <td>1773600</td>\n",
       "    </tr>\n",
       "    <tr>\n",
       "      <th>7</th>\n",
       "      <td>Perak</td>\n",
       "      <td>57.045054</td>\n",
       "      <td>2510300</td>\n",
       "    </tr>\n",
       "    <tr>\n",
       "      <th>8</th>\n",
       "      <td>Perlis</td>\n",
       "      <td>65.944684</td>\n",
       "      <td>254900</td>\n",
       "    </tr>\n",
       "    <tr>\n",
       "      <th>9</th>\n",
       "      <td>Sabah</td>\n",
       "      <td>26.577791</td>\n",
       "      <td>6538000</td>\n",
       "    </tr>\n",
       "    <tr>\n",
       "      <th>10</th>\n",
       "      <td>Sarawak</td>\n",
       "      <td>150.993885</td>\n",
       "      <td>1259300</td>\n",
       "    </tr>\n",
       "    <tr>\n",
       "      <th>11</th>\n",
       "      <td>Selangor</td>\n",
       "      <td>103.063733</td>\n",
       "      <td>3908500</td>\n",
       "    </tr>\n",
       "    <tr>\n",
       "      <th>12</th>\n",
       "      <td>Terengganu</td>\n",
       "      <td>24.787147</td>\n",
       "      <td>2816500</td>\n",
       "    </tr>\n",
       "    <tr>\n",
       "      <th>13</th>\n",
       "      <td>W.P. Kuala Lumpur</td>\n",
       "      <td>154.660709</td>\n",
       "      <td>1773700</td>\n",
       "    </tr>\n",
       "    <tr>\n",
       "      <th>14</th>\n",
       "      <td>W.P. Labuan</td>\n",
       "      <td>69.856426</td>\n",
       "      <td>99600</td>\n",
       "    </tr>\n",
       "    <tr>\n",
       "      <th>15</th>\n",
       "      <td>W.P. Putrajaya</td>\n",
       "      <td>114.053636</td>\n",
       "      <td>110000</td>\n",
       "    </tr>\n",
       "  </tbody>\n",
       "</table>\n",
       "</div>"
      ],
      "text/plain": [
       "                State  Vaccinated Percentage  Population\n",
       "0               Johor              60.878921     3781000\n",
       "1               Kedah              55.013455     2185100\n",
       "2            Kelantan              47.124351     1906700\n",
       "3              Melaka              64.538758      932700\n",
       "4     Negeri Sembilan              71.041194     1128800\n",
       "5              Pahang              55.074462     1678700\n",
       "6        Pulau Pinang              66.788227     1773600\n",
       "7               Perak              57.045054     2510300\n",
       "8              Perlis              65.944684      254900\n",
       "9               Sabah              26.577791     6538000\n",
       "10            Sarawak             150.993885     1259300\n",
       "11           Selangor             103.063733     3908500\n",
       "12         Terengganu              24.787147     2816500\n",
       "13  W.P. Kuala Lumpur             154.660709     1773700\n",
       "14        W.P. Labuan              69.856426       99600\n",
       "15     W.P. Putrajaya             114.053636      110000"
      ]
     },
     "execution_count": 267,
     "metadata": {},
     "output_type": "execute_result"
    }
   ],
   "source": [
    "state_vaccinated = pd.DataFrame(data =percentVaccinatedList,columns=['State','Vaccinated Percentage','Population'] )\n",
    "# state_vaccinated.sort_values(by='Infected Percentage',ascending = False).reset_index().drop('index',axis=1)\n",
    "state_vaccinated"
   ]
  },
  {
   "cell_type": "markdown",
   "metadata": {},
   "source": [
    "### The testing rate of a state"
   ]
  },
  {
   "cell_type": "code",
   "execution_count": 274,
   "metadata": {},
   "outputs": [
    {
     "data": {
      "text/plain": [
       "1504"
      ]
     },
     "execution_count": 274,
     "metadata": {},
     "output_type": "execute_result"
    }
   ],
   "source": [
    "test_state = epidemic_list[9]\n",
    "test_state.shape[0]"
   ]
  },
  {
   "cell_type": "code",
   "execution_count": 286,
   "metadata": {},
   "outputs": [
    {
     "data": {
      "text/plain": [
       "[['Johor', 1636507.4468085105, 1538317],\n",
       " ['Kedah', 699387.2340425531, 657424],\n",
       " ['Kelantan', 487336.170212766, 458096],\n",
       " ['Melaka', 444053.1914893617, 417410],\n",
       " ['Negeri Sembilan', 537751.0638297872, 505486],\n",
       " ['Pahang', 634050.0, 596007],\n",
       " ['Pulau Pinang', 983405.3191489362, 924401],\n",
       " ['Perak', 681695.744680851, 640794],\n",
       " ['Perlis', 34330.85106382979, 32271],\n",
       " ['Sabah', 905079.7872340425, 850775],\n",
       " ['Sarawak', 1201656.3829787234, 1129557],\n",
       " ['Selangor', 3709670.2127659577, 3487090],\n",
       " ['Terengganu', 478224.4680851064, 449531],\n",
       " ['W.P. Kuala Lumpur', 1200859.574468085, 1128808],\n",
       " ['W.P. Labuan', 67829.78723404255, 63760],\n",
       " ['W.P. Putrajaya', 49355.31914893617, 46394]]"
      ]
     },
     "execution_count": 286,
     "metadata": {},
     "output_type": "execute_result"
    }
   ],
   "source": [
    "test_statedf = []\n",
    "for x in state_list:\n",
    "  test_statedf.append(test_state[test_state['state'] == x].reset_index())\n",
    "\n",
    "TestingRateList = []\n",
    "i = 1 \n",
    "for x in test_statedf:\n",
    "    TestingRateList.append([x['state'][0],percentInfected(x['rtk-ag'].sum() + x['pcr'].sum(),x.shape[0]), x['rtk-ag'].sum()+ x['pcr'].sum()])\n",
    "    i += 1\n",
    "\n",
    "TestingRateList"
   ]
  },
  {
   "cell_type": "code",
   "execution_count": 287,
   "metadata": {},
   "outputs": [
    {
     "data": {
      "text/html": [
       "<div>\n",
       "<style scoped>\n",
       "    .dataframe tbody tr th:only-of-type {\n",
       "        vertical-align: middle;\n",
       "    }\n",
       "\n",
       "    .dataframe tbody tr th {\n",
       "        vertical-align: top;\n",
       "    }\n",
       "\n",
       "    .dataframe thead th {\n",
       "        text-align: right;\n",
       "    }\n",
       "</style>\n",
       "<table border=\"1\" class=\"dataframe\">\n",
       "  <thead>\n",
       "    <tr style=\"text-align: right;\">\n",
       "      <th></th>\n",
       "      <th>State</th>\n",
       "      <th>Testing Rate per day</th>\n",
       "      <th>Total Test Done</th>\n",
       "    </tr>\n",
       "  </thead>\n",
       "  <tbody>\n",
       "    <tr>\n",
       "      <th>0</th>\n",
       "      <td>Johor</td>\n",
       "      <td>1.636507e+06</td>\n",
       "      <td>1538317</td>\n",
       "    </tr>\n",
       "    <tr>\n",
       "      <th>1</th>\n",
       "      <td>Kedah</td>\n",
       "      <td>6.993872e+05</td>\n",
       "      <td>657424</td>\n",
       "    </tr>\n",
       "    <tr>\n",
       "      <th>2</th>\n",
       "      <td>Kelantan</td>\n",
       "      <td>4.873362e+05</td>\n",
       "      <td>458096</td>\n",
       "    </tr>\n",
       "    <tr>\n",
       "      <th>3</th>\n",
       "      <td>Melaka</td>\n",
       "      <td>4.440532e+05</td>\n",
       "      <td>417410</td>\n",
       "    </tr>\n",
       "    <tr>\n",
       "      <th>4</th>\n",
       "      <td>Negeri Sembilan</td>\n",
       "      <td>5.377511e+05</td>\n",
       "      <td>505486</td>\n",
       "    </tr>\n",
       "    <tr>\n",
       "      <th>5</th>\n",
       "      <td>Pahang</td>\n",
       "      <td>6.340500e+05</td>\n",
       "      <td>596007</td>\n",
       "    </tr>\n",
       "    <tr>\n",
       "      <th>6</th>\n",
       "      <td>Pulau Pinang</td>\n",
       "      <td>9.834053e+05</td>\n",
       "      <td>924401</td>\n",
       "    </tr>\n",
       "    <tr>\n",
       "      <th>7</th>\n",
       "      <td>Perak</td>\n",
       "      <td>6.816957e+05</td>\n",
       "      <td>640794</td>\n",
       "    </tr>\n",
       "    <tr>\n",
       "      <th>8</th>\n",
       "      <td>Perlis</td>\n",
       "      <td>3.433085e+04</td>\n",
       "      <td>32271</td>\n",
       "    </tr>\n",
       "    <tr>\n",
       "      <th>9</th>\n",
       "      <td>Sabah</td>\n",
       "      <td>9.050798e+05</td>\n",
       "      <td>850775</td>\n",
       "    </tr>\n",
       "    <tr>\n",
       "      <th>10</th>\n",
       "      <td>Sarawak</td>\n",
       "      <td>1.201656e+06</td>\n",
       "      <td>1129557</td>\n",
       "    </tr>\n",
       "    <tr>\n",
       "      <th>11</th>\n",
       "      <td>Selangor</td>\n",
       "      <td>3.709670e+06</td>\n",
       "      <td>3487090</td>\n",
       "    </tr>\n",
       "    <tr>\n",
       "      <th>12</th>\n",
       "      <td>Terengganu</td>\n",
       "      <td>4.782245e+05</td>\n",
       "      <td>449531</td>\n",
       "    </tr>\n",
       "    <tr>\n",
       "      <th>13</th>\n",
       "      <td>W.P. Kuala Lumpur</td>\n",
       "      <td>1.200860e+06</td>\n",
       "      <td>1128808</td>\n",
       "    </tr>\n",
       "    <tr>\n",
       "      <th>14</th>\n",
       "      <td>W.P. Labuan</td>\n",
       "      <td>6.782979e+04</td>\n",
       "      <td>63760</td>\n",
       "    </tr>\n",
       "    <tr>\n",
       "      <th>15</th>\n",
       "      <td>W.P. Putrajaya</td>\n",
       "      <td>4.935532e+04</td>\n",
       "      <td>46394</td>\n",
       "    </tr>\n",
       "  </tbody>\n",
       "</table>\n",
       "</div>"
      ],
      "text/plain": [
       "                State  Testing Rate per day  Total Test Done\n",
       "0               Johor          1.636507e+06          1538317\n",
       "1               Kedah          6.993872e+05           657424\n",
       "2            Kelantan          4.873362e+05           458096\n",
       "3              Melaka          4.440532e+05           417410\n",
       "4     Negeri Sembilan          5.377511e+05           505486\n",
       "5              Pahang          6.340500e+05           596007\n",
       "6        Pulau Pinang          9.834053e+05           924401\n",
       "7               Perak          6.816957e+05           640794\n",
       "8              Perlis          3.433085e+04            32271\n",
       "9               Sabah          9.050798e+05           850775\n",
       "10            Sarawak          1.201656e+06          1129557\n",
       "11           Selangor          3.709670e+06          3487090\n",
       "12         Terengganu          4.782245e+05           449531\n",
       "13  W.P. Kuala Lumpur          1.200860e+06          1128808\n",
       "14        W.P. Labuan          6.782979e+04            63760\n",
       "15     W.P. Putrajaya          4.935532e+04            46394"
      ]
     },
     "execution_count": 287,
     "metadata": {},
     "output_type": "execute_result"
    }
   ],
   "source": [
    "state_testingRate = pd.DataFrame(data =TestingRateList,columns=['State','Testing Rate per day','Total Test Done'] )\n",
    "# state_vaccinated.sort_values(by='Infected Percentage',ascending = False).reset_index().drop('index',axis=1)\n",
    "state_testingRate"
   ]
  }
 ],
 "metadata": {
  "kernelspec": {
   "display_name": "Python 3 (ipykernel)",
   "language": "python",
   "name": "python3"
  },
  "language_info": {
   "codemirror_mode": {
    "name": "ipython",
    "version": 3
   },
   "file_extension": ".py",
   "mimetype": "text/x-python",
   "name": "python",
   "nbconvert_exporter": "python",
   "pygments_lexer": "ipython3",
   "version": "3.8.0"
  },
  "toc-showmarkdowntxt": true
 },
 "nbformat": 4,
 "nbformat_minor": 4
}
